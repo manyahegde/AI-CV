{
 "cells": [
  {
   "cell_type": "code",
   "execution_count": 3,
   "id": "4ddfeb3f",
   "metadata": {},
   "outputs": [
    {
     "name": "stdout",
     "output_type": "stream",
     "text": [
      "The goal 'E' can be reached.\n"
     ]
    }
   ],
   "source": [
    "#define the knowledge base as a dictionery of rules\n",
    "knowledge_base={\n",
    "    \"rule1\":{\n",
    "        \"if\":[\"A\",\"B\"],\n",
    "        \"then\":\"C\"\n",
    "    },\n",
    "    \"rule2\":{\n",
    "        \"if\":[\"D\"],\n",
    "        \"then\":\"A\"\n",
    "    },\n",
    "    \"rule3\":{\n",
    "        \"if\":[\"E\"],\n",
    "        \"then\":\"B\"\n",
    "    },\n",
    "    \"rule4\":{\n",
    "        \"if\":[\"F\"],\n",
    "        \"then\":\"D\"\n",
    "    },\n",
    "    \"rule5\":{\n",
    "        \"if\":[\"G\"],\n",
    "        \"then\":\"E\"\n",
    "    },\n",
    "}\n",
    "def backward_chaining(goal,known_facts):\n",
    "    if goal in known_facts:\n",
    "        return True\n",
    "    for rule,value in knowbase.items():\n",
    "        if goal in value[\"if\"]:\n",
    "            all_conditions_met=all(condition in known_facts for condition in value[\"if\"])\n",
    "            if all_conditions_met and backchain(value[\"then\"],known_facts):\n",
    "                return True\n",
    "    return False\n",
    "\n",
    "goal=\"E\"\n",
    "known_facts=[\"G\",\"F\",\"E\"]\n",
    "\n",
    "if backward_chaining(goal,known_facts):\n",
    "    print(f\"The goal '{goal}' can be reached.\")\n",
    "else:\n",
    "    print(f\"The goal '{goal}' cannot be reached.\")"
   ]
  },
  {
   "cell_type": "code",
   "execution_count": null,
   "id": "6a537389",
   "metadata": {},
   "outputs": [],
   "source": []
  }
 ],
 "metadata": {
  "kernelspec": {
   "display_name": "Python 3 (ipykernel)",
   "language": "python",
   "name": "python3"
  },
  "language_info": {
   "codemirror_mode": {
    "name": "ipython",
    "version": 3
   },
   "file_extension": ".py",
   "mimetype": "text/x-python",
   "name": "python",
   "nbconvert_exporter": "python",
   "pygments_lexer": "ipython3",
   "version": "3.9.12"
  }
 },
 "nbformat": 4,
 "nbformat_minor": 5
}
