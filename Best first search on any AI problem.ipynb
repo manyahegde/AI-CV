{
 "cells": [
  {
   "cell_type": "code",
   "execution_count": 1,
   "id": "a8267310",
   "metadata": {},
   "outputs": [],
   "source": [
    "import heapq"
   ]
  },
  {
   "cell_type": "code",
   "execution_count": 19,
   "id": "02bf9ad5",
   "metadata": {},
   "outputs": [
    {
     "name": "stdout",
     "output_type": "stream",
     "text": [
      "Solution found:\n",
      "(1, 2, 3, 8, 0, 4, 7, 6, 5)\n"
     ]
    }
   ],
   "source": [
    "class Node:\n",
    "    def __init__(self,state,parent=None,cost=0):\n",
    "        self.state=state\n",
    "        self.parent=parent\n",
    "        self.cost=cost\n",
    "    \n",
    "    def __1t__(self,other):\n",
    "        # modify this comparison based on your heuristic function\n",
    "        return self.cost<other.cost\n",
    "    \n",
    "def best_first_search(problem):\n",
    "        start_node=Node(problem.initial_state)\n",
    "        open_list=[]\n",
    "        closed_set=set()\n",
    "        heapq.heappush(open_list,start_node)\n",
    "        \n",
    "        while open_list:\n",
    "            current_node=heapq.heappop(open_list)\n",
    "            \n",
    "        if problem.is_goal(current_node.state):\n",
    "            return build_path(current_node)\n",
    "        \n",
    "        closed_set.add(current_node.state)\n",
    "        \n",
    "        for action,successor,step_cost in problem.get_successors(current_node.state):\n",
    "            if successor not in closed_set:\n",
    "                child=Node(successor,current_node,step_cost)\n",
    "                heapq.heappush(open_list,child)\n",
    "        \n",
    "        return None\n",
    "        \n",
    "def build_path(node):\n",
    "    path=[]\n",
    "    while node:\n",
    "        path.insert(0,node.state)\n",
    "        node=node.parent\n",
    "    return path\n",
    "    \n",
    "class Problem:\n",
    "    def __init__(self,initial_state):\n",
    "        self.initial_state=initial_state\n",
    "            \n",
    "    def is_goal(self,state):\n",
    "        raise NotImplementedError(\"Subclasses must implement is_goal\")\n",
    "            \n",
    "    def get_successors(self,state):\n",
    "        raise NotImplementedError(\"Subclasses must implement get_successors\")\n",
    "            \n",
    "#Example usage\n",
    "class EightPuzzleProblem(Problem):\n",
    "    def is_goal(self,state):\n",
    "        return state==(1,2,3,8,0,4,7,6,5)\n",
    "            \n",
    "    def get_successors(self,state):\n",
    "        # implement how to generate successors \n",
    "        pass\n",
    "            \n",
    "if __name__ ==\"__main__\":\n",
    "    initial_state=(1,2,3,8,0,4,7,6,5)\n",
    "    problem=EightPuzzleProblem(initial_state)\n",
    "                \n",
    "    solution_path=best_first_search(problem)\n",
    "    if solution_path:\n",
    "        print(\"Solution found:\")\n",
    "        for state in solution_path:\n",
    "            print(state)\n",
    "    else:\n",
    "        print(\"Solution not found.\")\n",
    "                "
   ]
  },
  {
   "cell_type": "code",
   "execution_count": null,
   "id": "8e944cb6",
   "metadata": {},
   "outputs": [],
   "source": []
  },
  {
   "cell_type": "code",
   "execution_count": null,
   "id": "5d94bdb4",
   "metadata": {},
   "outputs": [],
   "source": []
  }
 ],
 "metadata": {
  "kernelspec": {
   "display_name": "Python 3 (ipykernel)",
   "language": "python",
   "name": "python3"
  },
  "language_info": {
   "codemirror_mode": {
    "name": "ipython",
    "version": 3
   },
   "file_extension": ".py",
   "mimetype": "text/x-python",
   "name": "python",
   "nbconvert_exporter": "python",
   "pygments_lexer": "ipython3",
   "version": "3.9.12"
  }
 },
 "nbformat": 4,
 "nbformat_minor": 5
}
