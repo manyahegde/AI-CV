{
 "cells": [
  {
   "cell_type": "code",
   "execution_count": 6,
   "id": "2e326127",
   "metadata": {},
   "outputs": [
    {
     "name": "stdout",
     "output_type": "stream",
     "text": [
      "Derived Facts: {'C', 'G', 'A', 'D', 'E'}\n"
     ]
    }
   ],
   "source": [
    "class Rule:\n",
    "    def __init__(self,antecedents, consequent):\n",
    "        self.antecedents=antecedents\n",
    "        self.consequent=consequent\n",
    "        \n",
    "class KnowledgeBase:\n",
    "    def __init__(self):\n",
    "        self.facts=set()\n",
    "        self.rules=[]\n",
    "        \n",
    "    def add_fact(self,fact):\n",
    "        self.facts.add(fact)\n",
    "        \n",
    "    def add_rule(self,rule):\n",
    "        self.rules.append(rule)\n",
    "        \n",
    "    def apply_forward_chaining(self):\n",
    "        new_facts_derived=True\n",
    "        while new_facts_derived:\n",
    "            new_facts_derived=False\n",
    "            for rule in self.rules:\n",
    "                if all(antecedent in self.facts for antecedent in rule.antecedents) and rule.consequent not in self.facts:\n",
    "                    self.facts.add(rule.consequent)\n",
    "                    new_facts_derived=True\n",
    "\n",
    "if __name__==\"__main__\":\n",
    "    kb=KnowledgeBase()\n",
    "    \n",
    "    #define rules and facts\n",
    "    rule1=Rule([\"A\",\"C\"],\"E\")\n",
    "    rule2=Rule([\"A\",\"E\"],\"G\")\n",
    "    rule3=Rule([\"B\"],\"E\")\n",
    "    rule4=Rule([\"G\"],\"D\")\n",
    "    kb.add_rule(rule1)\n",
    "    kb.add_rule(rule2)\n",
    "    kb.add_rule(rule3)\n",
    "    kb.add_rule(rule4)\n",
    "    kb.add_fact(\"A\")\n",
    "    kb.add_fact(\"C\")\n",
    "    \n",
    "    kb.apply_forward_chaining()\n",
    "    print(\"Derived Facts:\",kb.facts)"
   ]
  },
  {
   "cell_type": "code",
   "execution_count": null,
   "id": "bc8ad995",
   "metadata": {},
   "outputs": [],
   "source": []
  }
 ],
 "metadata": {
  "kernelspec": {
   "display_name": "Python 3 (ipykernel)",
   "language": "python",
   "name": "python3"
  },
  "language_info": {
   "codemirror_mode": {
    "name": "ipython",
    "version": 3
   },
   "file_extension": ".py",
   "mimetype": "text/x-python",
   "name": "python",
   "nbconvert_exporter": "python",
   "pygments_lexer": "ipython3",
   "version": "3.9.12"
  }
 },
 "nbformat": 4,
 "nbformat_minor": 5
}
