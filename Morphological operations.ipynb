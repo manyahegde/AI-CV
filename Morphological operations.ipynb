{
 "cells": [
  {
   "cell_type": "markdown",
   "id": "8badd246",
   "metadata": {},
   "source": [
    "###### perform different Morphological operations"
   ]
  },
  {
   "cell_type": "code",
   "execution_count": 1,
   "id": "45b83a09",
   "metadata": {},
   "outputs": [],
   "source": [
    "import cv2\n",
    "import numpy as np\n",
    "img = cv2.imread('morph.png')\n",
    "# Creating kernel\n",
    "kernel =np.ones((5, 5), np.uint8)\n",
    "# Using cv2.erode() method\n",
    "img_erosion =cv2.erode(img, kernel,iterations=1)# Using cv2.dilate() method\n",
    "img_dilation =cv2.dilate(img, kernel,iterations=1)# opening the image\n",
    "img_opening = cv2.morphologyEx(img, cv2.MORPH_OPEN,kernel, iterations=1)# closing the image\n",
    "img_closing = cv2.morphologyEx(img, cv2.MORPH_CLOSE,kernel, iterations=1)# use morph gradient\n",
    "img_morph_gradient = cv2.morphologyEx(img, cv2.MORPH_GRADIENT,kernel)\n",
    "# Displaying the image\n",
    "cv2.imshow('Original_image', img)\n",
    "cv2.imshow('Erosion', img_erosion)\n",
    "cv2.imshow('Dilation', img_dilation)\n",
    "cv2.imshow('Opening', img_opening)\n",
    "cv2.imshow('Closing', img_closing)\n",
    "cv2.imshow('morph_gradient',\n",
    "img_morph_gradient)\n",
    "cv2.waitKey(0)\n",
    "cv2.destroyAllWindows()"
   ]
  },
  {
   "cell_type": "code",
   "execution_count": null,
   "id": "22eb5138",
   "metadata": {},
   "outputs": [],
   "source": []
  }
 ],
 "metadata": {
  "kernelspec": {
   "display_name": "Python 3 (ipykernel)",
   "language": "python",
   "name": "python3"
  },
  "language_info": {
   "codemirror_mode": {
    "name": "ipython",
    "version": 3
   },
   "file_extension": ".py",
   "mimetype": "text/x-python",
   "name": "python",
   "nbconvert_exporter": "python",
   "pygments_lexer": "ipython3",
   "version": "3.9.16"
  }
 },
 "nbformat": 4,
 "nbformat_minor": 5
}
