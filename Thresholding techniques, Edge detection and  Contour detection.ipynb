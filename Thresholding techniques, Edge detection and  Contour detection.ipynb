{
 "cells": [
  {
   "cell_type": "markdown",
   "id": "0a4cb0cd",
   "metadata": {},
   "source": [
    "###### Thresholding techniques, Edge detection and Contour detection"
   ]
  },
  {
   "cell_type": "code",
   "execution_count": 1,
   "id": "96a9ab92",
   "metadata": {},
   "outputs": [
    {
     "data": {
      "text/plain": [
       "48"
      ]
     },
     "execution_count": 1,
     "metadata": {},
     "output_type": "execute_result"
    }
   ],
   "source": [
    "import cv2\n",
    "\n",
    "image = cv2.imread('tiger.jpg')\n",
    "gray = cv2.cvtColor(image, cv2.COLOR_BGR2GRAY)\n",
    "blurred = cv2.GaussianBlur(gray, (3, 3), 0)\n",
    "wide_Edge = cv2.Canny(blurred, 10, 100)\n",
    "Mid_Edge = cv2.Canny(blurred, 30, 150)\n",
    "Tight_Edge = cv2.Canny(blurred, 240, 250)\n",
    "\n",
    "cv2.imshow(\"Original image\", image)\n",
    "cv2.imshow(\"Wide Edged image\", wide_Edge)\n",
    "cv2.imshow(\"Mid Edged image\", Mid_Edge)\n",
    "cv2.imshow(\"Tight Edged image\", Tight_Edge)\n",
    "\n",
    "cv2.waitKey(0)"
   ]
  },
  {
   "cell_type": "code",
   "execution_count": 2,
   "id": "39257b37",
   "metadata": {},
   "outputs": [
    {
     "name": "stdout",
     "output_type": "stream",
     "text": [
      "145 objects were found in this image.\n"
     ]
    }
   ],
   "source": [
    "# Find contours using Tight_Edge\n",
    "contours, _ = cv2.findContours(Tight_Edge, cv2.RETR_EXTERNAL, cv2.CHAIN_APPROX_SIMPLE)\n",
    "\n",
    "image_copy = image.copy()\n",
    "# draw the contours on a copy of the original image\n",
    "cv2.drawContours(image_copy, contours, -1, (0, 255, 0), 2)\n",
    "\n",
    "print(len(contours), \"objects were found in this image.\")\n"
   ]
  },
  {
   "cell_type": "code",
   "execution_count": 3,
   "id": "d4062633",
   "metadata": {},
   "outputs": [
    {
     "data": {
      "text/plain": [
       "48"
      ]
     },
     "execution_count": 3,
     "metadata": {},
     "output_type": "execute_result"
    }
   ],
   "source": [
    "cv2.imshow(\"Tight Edged image\", Tight_Edge)\n",
    "cv2.imshow(\"Contours\", image_copy)\n",
    "cv2.waitKey(0)"
   ]
  },
  {
   "cell_type": "code",
   "execution_count": null,
   "id": "577003aa",
   "metadata": {},
   "outputs": [],
   "source": []
  }
 ],
 "metadata": {
  "kernelspec": {
   "display_name": "Python 3 (ipykernel)",
   "language": "python",
   "name": "python3"
  },
  "language_info": {
   "codemirror_mode": {
    "name": "ipython",
    "version": 3
   },
   "file_extension": ".py",
   "mimetype": "text/x-python",
   "name": "python",
   "nbconvert_exporter": "python",
   "pygments_lexer": "ipython3",
   "version": "3.9.16"
  }
 },
 "nbformat": 4,
 "nbformat_minor": 5
}
