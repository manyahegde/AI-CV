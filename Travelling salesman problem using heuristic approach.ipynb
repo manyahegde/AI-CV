{
 "cells": [
  {
   "cell_type": "code",
   "execution_count": 8,
   "id": "a5f42fe9",
   "metadata": {},
   "outputs": [
    {
     "name": "stdout",
     "output_type": "stream",
     "text": [
      "optimal tour: [0, 1, 2, 3, 4, 0]\n"
     ]
    }
   ],
   "source": [
    "import math\n",
    "\n",
    "#define afunction to calculate the euclidean distance between 2 points\n",
    "def distance(point1, point2):\n",
    "    return math.sqrt((point1[0]-point2[0])**2+(point1[1]-point2[1])**2)\n",
    "\n",
    "#define the nearest neighbor algorithm\n",
    "def nearest_neighbor(points):\n",
    "    n=len(points)\n",
    "    unvisited=set(range(n))\n",
    "    tour=[0] #start from the first point\n",
    "    unvisited.remove(0)\n",
    "    \n",
    "    while unvisited:\n",
    "        current_point=tour[-1]\n",
    "        nearest_point=min(unvisited,key=lambda x:distance(points[current_point],points[x]))\n",
    "        tour.append(nearest_point)\n",
    "        unvisited.remove(nearest_point)\n",
    "        \n",
    "    #compute the tour by returning to the starting point\n",
    "    tour.append(tour[0])\n",
    "    \n",
    "    return tour\n",
    "\n",
    "#example usage\n",
    "if __name__==\"__main__\":\n",
    "    #define the points as (x,y) coordinates\n",
    "    points=[(0,0),(1,2),(2,3),(3,4),(4,2)]\n",
    "        \n",
    "    #find the tour using the nearest neighbor algorithm\n",
    "    tour=nearest_neighbor(points)\n",
    "        \n",
    "    print(\"optimal tour:\",tour)\n"
   ]
  },
  {
   "cell_type": "code",
   "execution_count": null,
   "id": "80a25d2c",
   "metadata": {},
   "outputs": [],
   "source": []
  },
  {
   "cell_type": "code",
   "execution_count": null,
   "id": "bbf74ddd",
   "metadata": {},
   "outputs": [],
   "source": []
  }
 ],
 "metadata": {
  "kernelspec": {
   "display_name": "Python 3 (ipykernel)",
   "language": "python",
   "name": "python3"
  },
  "language_info": {
   "codemirror_mode": {
    "name": "ipython",
    "version": 3
   },
   "file_extension": ".py",
   "mimetype": "text/x-python",
   "name": "python",
   "nbconvert_exporter": "python",
   "pygments_lexer": "ipython3",
   "version": "3.9.12"
  }
 },
 "nbformat": 4,
 "nbformat_minor": 5
}
