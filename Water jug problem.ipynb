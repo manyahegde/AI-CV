{
 "cells": [
  {
   "cell_type": "code",
   "execution_count": 2,
   "id": "9e8d973e",
   "metadata": {},
   "outputs": [
    {
     "name": "stdout",
     "output_type": "stream",
     "text": [
      "Solution found: Fill Jug1\n",
      "Fill Jug2\n",
      "Empty Jug1\n",
      "Pour Jug2 into Jug1\n",
      "Fill Jug2\n",
      "Pour Jug2 into Jug1\n",
      "\n",
      "Solution found: Fill Jug1\n",
      "Pour Jug1 into Jug2\n",
      "Empty Jug2\n",
      "Pour Jug1 into Jug2\n",
      "Fill Jug1\n",
      "Pour Jug1 into Jug2\n",
      "\n"
     ]
    }
   ],
   "source": [
    "def water_jug_dfs(jug1_capacity,jug2_capacity,target_capacity):\n",
    "    def dfs(jug1, jug2, path):\n",
    "        if jug1 == target_capacity or jug2 == target_capacity:\n",
    "            print(\"Solution found:\", path)\n",
    "            return\n",
    "        \n",
    "        # Fill jug1\n",
    "        if jug1 < jug1_capacity:\n",
    "            new_jug1 = jug1_capacity\n",
    "            new_jug2 = jug2\n",
    "            if (new_jug1, new_jug2) not in visited:\n",
    "                visited.add((new_jug1, new_jug2))\n",
    "                dfs(new_jug1, new_jug2, path + f\"Fill Jug1\\n\")\n",
    "        \n",
    "        # Fill jug2\n",
    "        if jug2 < jug2_capacity:\n",
    "            new_jug1 = jug1\n",
    "            new_jug2 = jug2_capacity\n",
    "            if (new_jug1, new_jug2) not in visited:\n",
    "                visited.add((new_jug1, new_jug2))\n",
    "                dfs(new_jug1, new_jug2, path + f\"Fill Jug2\\n\")\n",
    "                \n",
    "        # Pour water from jug1 to jug2\n",
    "        if jug1 > 0 and jug2 < jug2_capacity: \n",
    "            pour_amount = min(jug1, jug2_capacity - jug2)\n",
    "            new_jug1 = jug1 - pour_amount\n",
    "            new_jug2 = jug2 + pour_amount\n",
    "            if (new_jug1, new_jug2) not in visited:\n",
    "                visited.add((new_jug1, new_jug2))\n",
    "                dfs(new_jug1, new_jug2, path + f\"Pour Jug1 into Jug2\\n\")\n",
    "                \n",
    "        # Pour water from jug2 to jug1\n",
    "        if jug2 > 0 and jug1 < jug1_capacity:\n",
    "            pour_amount = min(jug2, jug1_capacity - jug1)\n",
    "            new_jug1 = jug1 + pour_amount\n",
    "            new_jug2 = jug2 - pour_amount\n",
    "            if (new_jug1, new_jug2) not in visited:\n",
    "                visited.add((new_jug1, new_jug2))\n",
    "                dfs(new_jug1, new_jug2, path + f\"Pour Jug2 into Jug1\\n\")\n",
    "                \n",
    "        # Empty jug1\n",
    "        if jug1 > 0:\n",
    "            new_jug1 = 0\n",
    "            new_jug2 = jug2\n",
    "            if (new_jug1, new_jug2) not in visited:\n",
    "                visited.add((new_jug1, new_jug2))\n",
    "                dfs(new_jug1, new_jug2, path + f\"Empty Jug1\\n\")\n",
    "                \n",
    "        # Empty jug2\n",
    "        if jug2 > 0:\n",
    "            new_jug1 = jug1\n",
    "            new_jug2 = 0\n",
    "            if (new_jug1, new_jug2) not in visited:\n",
    "                visited.add((new_jug1, new_jug2))\n",
    "                dfs(new_jug1, new_jug2, path + f\"Empty Jug2\\n\")\n",
    "    \n",
    "    visited = set()\n",
    "    dfs(0, 0, \"\")\n",
    "    \n",
    "# Example usage:\n",
    "jug1_capacity = 4\n",
    "jug2_capacity = 3\n",
    "target_capacity = 2\n",
    "water_jug_dfs(jug1_capacity, jug2_capacity, target_capacity)"
   ]
  },
  {
   "cell_type": "code",
   "execution_count": null,
   "id": "532180ae",
   "metadata": {},
   "outputs": [],
   "source": []
  }
 ],
 "metadata": {
  "kernelspec": {
   "display_name": "Python 3 (ipykernel)",
   "language": "python",
   "name": "python3"
  },
  "language_info": {
   "codemirror_mode": {
    "name": "ipython",
    "version": 3
   },
   "file_extension": ".py",
   "mimetype": "text/x-python",
   "name": "python",
   "nbconvert_exporter": "python",
   "pygments_lexer": "ipython3",
   "version": "3.9.12"
  }
 },
 "nbformat": 4,
 "nbformat_minor": 5
}
