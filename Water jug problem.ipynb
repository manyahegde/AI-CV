{
 "cells": [
  {
   "cell_type": "code",
   "execution_count": null,
   "id": "72268b64",
   "metadata": {},
   "outputs": [],
   "source": [
    "def water_jug_dfs(jug1_capacity,jug_2_capaciy,target_capacity):\n",
    "    def dfs(jug1, jug2, path):\n",
    "        if jug1 == target_capacity or jug2 == target_capacity:\n",
    "            print(\"Solution found:\", path)\n",
    "            return\n",
    "        \n",
    "        # Fill jug1\n",
    "        if jug1 < jug1_capacity:\n",
    "            new_jug1 = jug1_capacity\n",
    "            new_jug2 = jug2\n",
    "            if (new_jug1, new_jug2) not in visited:\n",
    "                visited.add((new_jug1, new_jug2))\n",
    "                dfs(new_jug1, new_jug2, path + f\"Fill Jug1\\n\")\n",
    "        \n",
    "        # Fill jug2\n",
    "        if jug2 < jug2_capacity:\n",
    "            new_jug1 = jug1\n",
    "            new_jug2 = jug2_capacity\n",
    "            if (new_jug1, new_jug2) not in visited:\n",
    "                visited.add((new_jug1, new_jug2))\n",
    "                dfs(new_jug1, new_jug2, path + f\"Fill Jug2\\n\")\n",
    "                \n",
    "        # Pour water from jug1 to jug2\n",
    "        if jug1 > 0 and jug2 < jug2_capacity: \n",
    "            pour_amount = min(jug1, jug2_capacity - jug2)\n",
    "            new_jug1 = jug1 - pour_amount\n",
    "            new_jug2 = jug2 + pour_amount\n",
    "            if (new_jug1, new_jug2) not in visited:\n",
    "                visited.add((new_jug1, new_jug2))\n",
    "                dfs(new_jug1, new_jug2, path + f\"Pour Jug1 into Jug2\\n\")\n",
    "                \n",
    "        "
   ]
  }
 ],
 "metadata": {
  "kernelspec": {
   "display_name": "Python 3 (ipykernel)",
   "language": "python",
   "name": "python3"
  },
  "language_info": {
   "codemirror_mode": {
    "name": "ipython",
    "version": 3
   },
   "file_extension": ".py",
   "mimetype": "text/x-python",
   "name": "python",
   "nbconvert_exporter": "python",
   "pygments_lexer": "ipython3",
   "version": "3.9.12"
  }
 },
 "nbformat": 4,
 "nbformat_minor": 5
}
