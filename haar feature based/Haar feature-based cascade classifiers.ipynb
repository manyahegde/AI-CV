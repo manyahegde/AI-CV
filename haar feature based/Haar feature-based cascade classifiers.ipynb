{
 "cells": [
  {
   "cell_type": "markdown",
   "id": "df2e7794",
   "metadata": {},
   "source": [
    "###### Haar feature-based cascade classifiers for Face and Eye Detection on images"
   ]
  },
  {
   "cell_type": "code",
   "execution_count": 4,
   "id": "39a6367d",
   "metadata": {},
   "outputs": [
    {
     "data": {
      "text/plain": [
       "-1"
      ]
     },
     "execution_count": 4,
     "metadata": {},
     "output_type": "execute_result"
    }
   ],
   "source": [
    "import cv2\n",
    "# Reading the image\n",
    "img = cv2.imread('image.png')\n",
    "# Converting image to grayscale\n",
    "gray_img = cv2.cvtColor(img, cv2.COLOR_BGR2GRAY)\n",
    "# Loading the required haar-cascade xml classifier file\n",
    "face_cascade = cv2.CascadeClassifier(cv2.data.haarcascades \n",
    "+'haarcascade_frontalface_default.xml')\n",
    "eye_cascade = cv2.CascadeClassifier(cv2.data.haarcascades \n",
    "+'haarcascade_eye.xml')\n",
    "# Applying the face detection method on the grayscale image\n",
    "faces_rect =face_cascade.detectMultiScale(gray_img, 1.1, 9)\n",
    "# Iterating through rectangles of detected faces\n",
    "for (x, y, w, h) in faces_rect:\n",
    " cv2.rectangle(img, (x, y), (x+w, y+h), (0, 255, 0), 2)\n",
    "# Applying the eye detection method on the grayscale image\n",
    "eyes_rect =eye_cascade.detectMultiScale(gray_img, 1.1, 1)\n",
    "for (x, y, w, h) in eyes_rect:\n",
    " cv2.rectangle(img, (x, y), (x+w, y+h), (0, 0, 255), 1)\n",
    "cv2.imshow('Detectection of face and eys', img)\n",
    "cv2.waitKey(0)"
   ]
  },
  {
   "cell_type": "code",
   "execution_count": null,
   "id": "0d821e25",
   "metadata": {},
   "outputs": [],
   "source": []
  }
 ],
 "metadata": {
  "kernelspec": {
   "display_name": "Python 3 (ipykernel)",
   "language": "python",
   "name": "python3"
  },
  "language_info": {
   "codemirror_mode": {
    "name": "ipython",
    "version": 3
   },
   "file_extension": ".py",
   "mimetype": "text/x-python",
   "name": "python",
   "nbconvert_exporter": "python",
   "pygments_lexer": "ipython3",
   "version": "3.9.16"
  }
 },
 "nbformat": 4,
 "nbformat_minor": 5
}
