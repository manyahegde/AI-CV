{
 "cells": [
  {
   "cell_type": "code",
   "execution_count": null,
   "id": "ec9fc376",
   "metadata": {},
   "outputs": [],
   "source": [
    "import cv2\n",
    "\n",
    "#function to process images\n",
    "def process_image(image):\n",
    "    #convert the image to grayscale\n",
    "    gray=cv2.cvtColor(image,cv2.COLOR_BGR2GRAY)\n",
    "    #display the grayscale image\n",
    "    cv2.imshow(\"Grayscale image\",gray)\n",
    "    #wait for a key press and close the window\n",
    "    cv2.waitKey(0)\n",
    "    cv2.destroyAllWindows()\n",
    "#function to process videos\n",
    "def process_video(video_path):\n",
    "    #open a video capture object\n",
    "    cap=cv2.VideoCapture(video_path)\n",
    "    while cap.isOpened():\n",
    "        ret,frame=cap.read()\n",
    "        if not ret:\n",
    "            break\n",
    "        #dispay the video frame\n",
    "        cv2.imshow(\"Video\",frame)\n",
    "        #press 'q' to exit the video playback\n",
    "        if cv2.waitKey(25)&0xFF==ord('q'):\n",
    "            break\n",
    "        #release the video capture object and close all windows\n",
    "        cap.release()\n",
    "        cv2.destroyAllWindows()               "
   ]
  },
  {
   "cell_type": "code",
   "execution_count": null,
   "id": "ff8e3102",
   "metadata": {},
   "outputs": [],
   "source": [
    "#choose whether to process an image or a video\n",
    "choice=input(\"Enter 'i' for image or'v'for video:\")\n",
    "if choice.lower()=='i':\n",
    "    #load an image\n",
    "    image=cv2.imread('image.jpeg')\n",
    "    process_image(image)\n",
    "elif choice.lower()=='v':\n",
    "    #load a video\n",
    "    video_path='video.mp4'\n",
    "    process_video(video_path)\n",
    "else:\n",
    "    print(\"Invalid choice. Please enter 'i' or 'v'.\")"
   ]
  },
  {
   "cell_type": "code",
   "execution_count": null,
   "id": "82ee5d35",
   "metadata": {},
   "outputs": [],
   "source": []
  },
  {
   "cell_type": "code",
   "execution_count": null,
   "id": "46bbd87b",
   "metadata": {},
   "outputs": [],
   "source": []
  }
 ],
 "metadata": {
  "kernelspec": {
   "display_name": "Python 3 (ipykernel)",
   "language": "python",
   "name": "python3"
  },
  "language_info": {
   "codemirror_mode": {
    "name": "ipython",
    "version": 3
   },
   "file_extension": ".py",
   "mimetype": "text/x-python",
   "name": "python",
   "nbconvert_exporter": "python",
   "pygments_lexer": "ipython3",
   "version": "3.9.12"
  }
 },
 "nbformat": 4,
 "nbformat_minor": 5
}
